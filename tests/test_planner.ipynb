{
 "cells": [
  {
   "cell_type": "code",
   "execution_count": 1,
   "metadata": {},
   "outputs": [],
   "source": [
    "%load_ext autoreload\n",
    "%autoreload 2\n",
    "\n",
    "import sys\n",
    "import os\n",
    "current_dir = os.path.abspath('')\n",
    "parent_dir = os.path.abspath(os.path.join(current_dir, os.pardir))\n",
    "sys.path.append(parent_dir)"
   ]
  },
  {
   "cell_type": "code",
   "execution_count": 2,
   "metadata": {},
   "outputs": [],
   "source": [
    "from src.expr.planner import QParser"
   ]
  },
  {
   "cell_type": "code",
   "execution_count": 3,
   "metadata": {},
   "outputs": [],
   "source": [
    "schema = \"\"\"CREATE TABLE IF NOT EXISTS `frpm` (`CDSCode` TEXT, `Academic Year` TEXT, `County Code` TEXT, `District Code` INT, `Free Meal Count (K-12)` FLOAT);\n",
    "CREATE TABLE IF NOT EXISTS `satscores` (`cds` TEXT, `rtype` TEXT, `sname` TEXT, `dname` TEXT, `cname` TEXT, `NumGE1500` INT, PRIMARY KEY (`cds`));\n",
    "CREATE TABLE IF NOT EXISTS `schools` (`CDSCode` TEXT, `NCESDist` TEXT, `NCESSchool` TEXT, `StatusType` TEXT, PRIMARY KEY (`CDSCode`))\"\"\"\n",
    "\n",
    "sql = \"\"\"SELECT T2.NCESDist FROM frpm AS T1 INNER JOIN schools AS T2 ON T1.CDSCode = T2.CDSCode WHERE T2.NCESDist IS NULL order by T2.NCESDist\"\"\"\n",
    "\n",
    "# from src.uexpr.planner import Plan\n",
    "ddls = schema.split(';')\n",
    "parser = QParser()\n",
    "plan = parser.explain(sql, schema = ddls)"
   ]
  },
  {
   "cell_type": "code",
   "execution_count": 9,
   "metadata": {},
   "outputs": [
    {
     "name": "stdout",
     "output_type": "stream",
     "text": [
      "Sort(sort=[0], dir=['ASCENDING'], offset=0, limit=INF)\n",
      "  Project($6)\n",
      "    Filter($6 IS NULL)\n",
      "      Join(condition=[$0 = $5], join_kind=inner)\n",
      "        Scan(frpm)\n",
      "        Scan(schools)\n",
      "********************\n",
      "Sort(sort=[0], dir=['ASCENDING'], offset=0, limit=INF)\n",
      "  Project($6)\n",
      "    Filter($6 IS NULL)\n",
      "      Join(condition=[$0 = $5], join_kind=inner)\n",
      "        Scan(frpm)\n",
      "        Scan(schools)\n"
     ]
    }
   ],
   "source": [
    "print(str(plan))\n",
    "print('**' * 10)\n",
    "print(plan.sql())"
   ]
  },
  {
   "cell_type": "code",
   "execution_count": null,
   "metadata": {},
   "outputs": [
    {
     "name": "stdout",
     "output_type": "stream",
     "text": [
      "Sort(sort=[0], dir=['ASCENDING'], offset=0, limit=INF)\n",
      "  Project($6)\n",
      "    Filter($6 IS NULL)\n",
      "      Join(condition=[$0 = $5], join_kind=inner)\n",
      "        Scan(frpm)\n",
      "        Scan(schools)\n"
     ]
    }
   ],
   "source": []
  },
  {
   "cell_type": "code",
   "execution_count": null,
   "metadata": {},
   "outputs": [
    {
     "name": "stdout",
     "output_type": "stream",
     "text": [
      "Sort(\n",
      "  this=Project(\n",
      "    this=Filter(\n",
      "      this=Join(\n",
      "        this=Scan(\n",
      "          table=frpm,\n",
      "          id=0),\n",
      "        expression=Scan(\n",
      "          table=schools,\n",
      "          id=1),\n",
      "        condition=EQ(\n",
      "          this=Column(\n",
      "            this=Identifier(this=$0, quoted=False),\n",
      "            datatype=DataType(this=Type.VARCHAR, nested=False),\n",
      "            ref=0),\n",
      "          expression=Column(\n",
      "            this=Identifier(this=$5, quoted=False),\n",
      "            datatype=DataType(this=Type.VARCHAR, nested=False),\n",
      "            ref=5)),\n",
      "        joinType=inner,\n",
      "        id=2),\n",
      "      condition=Is_Null(\n",
      "        this=Column(\n",
      "          this=Identifier(this=$6, quoted=False),\n",
      "          datatype=DataType(this=Type.VARCHAR, nested=False),\n",
      "          ref=6)),\n",
      "      variableset=[],\n",
      "      id=3),\n",
      "    expressions=[\n",
      "      Column(\n",
      "        this=Identifier(this=$6, quoted=False),\n",
      "        datatype=DataType(this=Type.VARCHAR, nested=False),\n",
      "        ref=6)],\n",
      "    id=4),\n",
      "  sort=[\n",
      "    {'column': 0, 'type': 'VARCHAR'}],\n",
      "  dir=[\n",
      "    ASCENDING],\n",
      "  offset=0,\n",
      "  id=5,\n",
      "  dialect=<src.expr.planner.QParser object at 0x7f28bee96040>)\n"
     ]
    }
   ],
   "source": [
    "print(repr(plan))"
   ]
  }
 ],
 "metadata": {
  "kernelspec": {
   "display_name": "Python 3",
   "language": "python",
   "name": "python3"
  },
  "language_info": {
   "codemirror_mode": {
    "name": "ipython",
    "version": 3
   },
   "file_extension": ".py",
   "mimetype": "text/x-python",
   "name": "python",
   "nbconvert_exporter": "python",
   "pygments_lexer": "ipython3",
   "version": "3.8.19"
  }
 },
 "nbformat": 4,
 "nbformat_minor": 2
}
