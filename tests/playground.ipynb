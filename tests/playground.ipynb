{
 "cells": [
  {
   "cell_type": "code",
   "execution_count": 1,
   "metadata": {},
   "outputs": [],
   "source": [
    "import enum\n",
    "from sqlglot import exp, parse_one, parse\n",
    "\n"
   ]
  },
  {
   "cell_type": "code",
   "execution_count": 14,
   "metadata": {},
   "outputs": [],
   "source": [
    "schema = \"\"\"CREATE TABLE IF NOT EXISTS `frpm` (`CDSCode` TEXT  CHECK (`CDSCode` IN ('active', 'inactive', 'pending')), `Academic Year` TEXT not null, `County Code` TEXT, `District Code` INT, `Free Meal Count (K-12)` FLOAT)\"\"\""
   ]
  },
  {
   "cell_type": "code",
   "execution_count": 17,
   "metadata": {},
   "outputs": [
    {
     "data": {
      "text/plain": [
       "ColumnDef(\n",
       "  this=Identifier(this=CDSCOde, quoted=False),\n",
       "  position=5)"
      ]
     },
     "execution_count": 17,
     "metadata": {},
     "output_type": "execute_result"
    }
   ],
   "source": [
    "exp.ColumnDef(this = exp.to_identifier('CDSCOde'), position = 5)"
   ]
  },
  {
   "cell_type": "code",
   "execution_count": 16,
   "metadata": {},
   "outputs": [
    {
     "data": {
      "text/plain": [
       "Create(\n",
       "  this=Schema(\n",
       "    this=Table(\n",
       "      this=Identifier(this=frpm, quoted=True)),\n",
       "    expressions=[\n",
       "      ColumnDef(\n",
       "        this=Identifier(this=CDSCode, quoted=True),\n",
       "        kind=DataType(this=Type.TEXT, nested=False),\n",
       "        constraints=[\n",
       "          ColumnConstraint(\n",
       "            kind=CheckColumnConstraint(\n",
       "              this=In(\n",
       "                this=Column(\n",
       "                  this=Identifier(this=CDSCode, quoted=True)),\n",
       "                expressions=[\n",
       "                  Literal(this=active, is_string=True),\n",
       "                  Literal(this=inactive, is_string=True),\n",
       "                  Literal(this=pending, is_string=True)])))]),\n",
       "      ColumnDef(\n",
       "        this=Identifier(this=Academic Year, quoted=True),\n",
       "        kind=DataType(this=Type.TEXT, nested=False),\n",
       "        constraints=[\n",
       "          ColumnConstraint(\n",
       "            kind=NotNullColumnConstraint())]),\n",
       "      ColumnDef(\n",
       "        this=Identifier(this=County Code, quoted=True),\n",
       "        kind=DataType(this=Type.TEXT, nested=False)),\n",
       "      ColumnDef(\n",
       "        this=Identifier(this=District Code, quoted=True),\n",
       "        kind=DataType(this=Type.INT, nested=False)),\n",
       "      ColumnDef(\n",
       "        this=Identifier(this=Free Meal Count (K-12), quoted=True),\n",
       "        kind=DataType(this=Type.FLOAT, nested=False))]),\n",
       "  kind=TABLE,\n",
       "  exists=True)"
      ]
     },
     "execution_count": 16,
     "metadata": {},
     "output_type": "execute_result"
    }
   ],
   "source": [
    "parse_one(schema, dialect = 'sqlite')"
   ]
  },
  {
   "cell_type": "code",
   "execution_count": 30,
   "metadata": {},
   "outputs": [
    {
     "name": "stdout",
     "output_type": "stream",
     "text": [
      "SAT or unknown\n"
     ]
    }
   ],
   "source": [
    "import z3\n",
    "SMT = \"\"\"(set-logic ALL)\n",
    "(declare-fun schools_CDSCode_TEXT_1 () String)\n",
    "(declare-fun satscores_cds_TEXT_1 () String)\n",
    "(declare-fun satscores_cds_TEXT_0 () String)\n",
    "(declare-fun schools_OpenDate_DATE_1 () String)\n",
    "(declare-fun schools_ClosedDate_DATE_1 () String)\n",
    "(declare-fun R_frpm_t0 () Int)\n",
    "(declare-fun R_schools_t0 () Int)\n",
    "(declare-fun R_schools_t1 () Int)\n",
    "(declare-fun R_satscores_t0 () Int)\n",
    "(declare-fun R_satscores_t1 () Int)\n",
    "(declare-fun schools_CDSCode_TEXT_0 () String)\n",
    "(declare-fun frpm_CDSCode_TEXT_0 () String)\n",
    "(assert (distinct schools_CDSCode_TEXT_0 schools_CDSCode_TEXT_1))\n",
    "(assert (distinct frpm_CDSCode_TEXT_0))\n",
    "(assert (distinct satscores_cds_TEXT_0 satscores_cds_TEXT_1))\n",
    "(assert (and (or (and (= frpm_CDSCode_TEXT_0 schools_CDSCode_TEXT_0)\n",
    "              (>= R_schools_t0 R_frpm_t0))\n",
    "         (and (= frpm_CDSCode_TEXT_0 schools_CDSCode_TEXT_1)\n",
    "              (>= R_schools_t1 R_frpm_t0)))))\n",
    "(assert (and (or (and (= satscores_cds_TEXT_0 schools_CDSCode_TEXT_0)\n",
    "              (>= R_schools_t0 R_satscores_t0))\n",
    "         (and (= satscores_cds_TEXT_0 schools_CDSCode_TEXT_1)\n",
    "              (>= R_schools_t1 R_satscores_t0)))\n",
    "     (or (and (= satscores_cds_TEXT_1 schools_CDSCode_TEXT_0)\n",
    "              (>= R_schools_t0 R_satscores_t1))\n",
    "         (and (= satscores_cds_TEXT_1 schools_CDSCode_TEXT_1)\n",
    "              (>= R_schools_t1 R_satscores_t1)))))\n",
    "(assert (> (str.len schools_CDSCode_TEXT_1) 0))\n",
    "(assert (> (str.len satscores_cds_TEXT_1) 0))\n",
    "(assert (> (str.len satscores_cds_TEXT_0) 0))\n",
    "(assert (let ((a!1 (re.++ (re.++ (re.range \"0\" \"9\") (re.range \"0\" \"9\"))\n",
    "                  (re.range \"0\" \"9\"))))\n",
    "(let ((a!2 (re.++ (re.++ (re.++ a!1 (re.range \"0\" \"9\")) (str.to_re \"-\"))\n",
    "                  (re.++ (re.range \"0\" \"9\") (re.range \"0\" \"9\")))))\n",
    "(let ((a!3 (re.++ (re.++ (re.++ a!2 (str.to_re \"-\"))\n",
    "                         (re.++ (re.range \"0\" \"9\") (re.range \"0\" \"9\")))\n",
    "                  (str.to_re \" \"))))\n",
    "(let ((a!4 (re.++ (re.++ a!3 (re.++ (re.range \"0\" \"9\") (re.range \"0\" \"9\")))\n",
    "                  (str.to_re \":\"))))\n",
    "(let ((a!5 (re.++ (re.++ a!4 (re.++ (re.range \"0\" \"9\") (re.range \"0\" \"9\")))\n",
    "                  (str.to_re \":\"))))\n",
    "(let ((a!6 (re.++ (re.++ a!5 (re.++ (re.range \"0\" \"9\") (re.range \"0\" \"9\")))\n",
    "                  (str.to_re \".\"))))\n",
    "  (and (>= (str.to_int (str.substr schools_OpenDate_DATE_1 0 4)) 1900)\n",
    "       (<= (str.to_int (str.substr schools_OpenDate_DATE_1 0 4)) 2100)\n",
    "       (>= (str.to_int (str.substr schools_OpenDate_DATE_1 5 2)) 1)\n",
    "       (<= (str.to_int (str.substr schools_OpenDate_DATE_1 5 2)) 12)\n",
    "       (>= (str.to_int (str.substr schools_OpenDate_DATE_1 11 2)) 0)\n",
    "       (<= (str.to_int (str.substr schools_OpenDate_DATE_1 11 2)) 23)\n",
    "       (>= (str.to_int (str.substr schools_OpenDate_DATE_1 8 2)) 1)\n",
    "       (<= (str.to_int (str.substr schools_OpenDate_DATE_1 8 2)) 31)\n",
    "       (>= (str.to_int (str.substr schools_OpenDate_DATE_1 14 2)) 0)\n",
    "       (<= (str.to_int (str.substr schools_OpenDate_DATE_1 14 2)) 59)\n",
    "       (>= (str.to_int (str.substr schools_OpenDate_DATE_1 17 2)) 0)\n",
    "       (<= (str.to_int (str.substr schools_OpenDate_DATE_1 17 2)) 59)\n",
    "       (>= (str.to_int (str.substr schools_OpenDate_DATE_1 20 3)) 0)\n",
    "       (<= (str.to_int (str.substr schools_OpenDate_DATE_1 20 3)) 999)\n",
    "       (str.in_re schools_OpenDate_DATE_1 (re.++ a!6 a!1))))))))))\n",
    "(assert (> (str.len schools_OpenDate_DATE_1) 0))\n",
    "(assert (let ((a!1 (re.++ (re.++ (re.range \"0\" \"9\") (re.range \"0\" \"9\"))\n",
    "                  (re.range \"0\" \"9\"))))\n",
    "(let ((a!2 (re.++ (re.++ (re.++ a!1 (re.range \"0\" \"9\")) (str.to_re \"-\"))\n",
    "                  (re.++ (re.range \"0\" \"9\") (re.range \"0\" \"9\")))))\n",
    "(let ((a!3 (re.++ (re.++ (re.++ a!2 (str.to_re \"-\"))\n",
    "                         (re.++ (re.range \"0\" \"9\") (re.range \"0\" \"9\")))\n",
    "                  (str.to_re \" \"))))\n",
    "(let ((a!4 (re.++ (re.++ a!3 (re.++ (re.range \"0\" \"9\") (re.range \"0\" \"9\")))\n",
    "                  (str.to_re \":\"))))\n",
    "(let ((a!5 (re.++ (re.++ a!4 (re.++ (re.range \"0\" \"9\") (re.range \"0\" \"9\")))\n",
    "                  (str.to_re \":\"))))\n",
    "(let ((a!6 (re.++ (re.++ a!5 (re.++ (re.range \"0\" \"9\") (re.range \"0\" \"9\")))\n",
    "                  (str.to_re \".\"))))\n",
    "  (and (>= (str.to_int (str.substr schools_ClosedDate_DATE_1 0 4)) 1900)\n",
    "       (<= (str.to_int (str.substr schools_ClosedDate_DATE_1 0 4)) 2100)\n",
    "       (>= (str.to_int (str.substr schools_ClosedDate_DATE_1 5 2)) 1)\n",
    "       (<= (str.to_int (str.substr schools_ClosedDate_DATE_1 5 2)) 12)\n",
    "       (>= (str.to_int (str.substr schools_ClosedDate_DATE_1 11 2)) 0)\n",
    "       (<= (str.to_int (str.substr schools_ClosedDate_DATE_1 11 2)) 23)\n",
    "       (>= (str.to_int (str.substr schools_ClosedDate_DATE_1 8 2)) 1)\n",
    "       (<= (str.to_int (str.substr schools_ClosedDate_DATE_1 8 2)) 31)\n",
    "       (>= (str.to_int (str.substr schools_ClosedDate_DATE_1 14 2)) 0)\n",
    "       (<= (str.to_int (str.substr schools_ClosedDate_DATE_1 14 2)) 59)\n",
    "       (>= (str.to_int (str.substr schools_ClosedDate_DATE_1 17 2)) 0)\n",
    "       (<= (str.to_int (str.substr schools_ClosedDate_DATE_1 17 2)) 59)\n",
    "       (>= (str.to_int (str.substr schools_ClosedDate_DATE_1 20 3)) 0)\n",
    "       (<= (str.to_int (str.substr schools_ClosedDate_DATE_1 20 3)) 999)\n",
    "       (str.in_re schools_ClosedDate_DATE_1 (re.++ a!6 a!1))))))))))\n",
    "(assert (> (str.len schools_ClosedDate_DATE_1) 0))\n",
    "(assert (> (str.len schools_CDSCode_TEXT_0) 0))\n",
    "(assert (> (str.len frpm_CDSCode_TEXT_0) 0))\n",
    "(assert (= satscores_cds_TEXT_0 \"Rnow1qjOs2\"))\n",
    "(assert (= schools_CDSCode_TEXT_0 \"Rnow1qjOs2\"))\n",
    "(assert (= frpm_CDSCode_TEXT_0 \"Rnow1qjOs2\"))\n",
    "(assert (<= (+ R_satscores_t0 R_satscores_t1) (+ R_schools_t0 R_schools_t1)))\n",
    "(assert (<= R_frpm_t0 (+ R_schools_t0 R_schools_t1)))\n",
    "(assert (or (= schools_CDSCode_TEXT_1 satscores_cds_TEXT_1)\n",
    "    (= schools_CDSCode_TEXT_1 satscores_cds_TEXT_0)))\n",
    "(assert (> (str.to_int (str.substr schools_OpenDate_DATE_1 0 4)) (str.to_int \"1991\")))\n",
    "(assert (< (str.to_int (str.substr schools_ClosedDate_DATE_1 0 4)) (str.to_int \"2000\")))\n",
    "(check-sat)\n",
    "(get-model)\n",
    "\"\"\"\n",
    "\n",
    "solver = z3.Solver()\n",
    "\n",
    "decls = {}\n",
    "exprs = z3.parse_smt2_string(SMT, decls=decls)\n",
    "solver.set(unsat_core = True)\n",
    "tracked = []\n",
    "for i, e in enumerate(exprs):\n",
    "    name = z3.Bool(f\"c{i}\")\n",
    "    solver.assert_and_track(e, name)\n",
    "    tracked.append((name, e))\n",
    "\n",
    "# Step 4: Check satisfiability and get core\n",
    "if solver.check() == z3.unsat:\n",
    "    print(\"UNSAT core:\")\n",
    "    for name, expr in tracked:\n",
    "        if name in solver.unsat_core():\n",
    "            print(f\"  {name}: {expr}\")\n",
    "else:\n",
    "    print(\"SAT or unknown\")"
   ]
  },
  {
   "cell_type": "code",
   "execution_count": 1,
   "metadata": {},
   "outputs": [
    {
     "name": "stdout",
     "output_type": "stream",
     "text": [
      "SAT:\n",
      "[s = \"A\"]\n"
     ]
    }
   ],
   "source": [
    "from z3 import *\n",
    "\n",
    "s = String('s')\n",
    "\n",
    "# ASCII printable range: from code point 32 (' ') to 126 ('~')\n",
    "ascii_printable = Range(chr(32), chr(126))\n",
    "\n",
    "# Require the string to be made of printable ASCII chars only\n",
    "ascii_printable_word = Star(ascii_printable)  # allows zero or more\n",
    "# OR use Plus(...) for at least one character:\n",
    "# ascii_printable_word = Plus(ascii_printable)\n",
    "\n",
    "# Constraint: s ∈ ascii_printable_word\n",
    "constraint = InRe(s, ascii_printable_word)\n",
    "\n",
    "# Example use\n",
    "solver = Solver()\n",
    "solver.add(constraint)\n",
    "solver.add(Length(s) > 0)  # ensure it's non-empty\n",
    "\n",
    "if solver.check() == sat:\n",
    "    print(\"SAT:\")\n",
    "    print(solver.model())\n",
    "else:\n",
    "    print(\"UNSAT\")"
   ]
  },
  {
   "cell_type": "code",
   "execution_count": 5,
   "metadata": {},
   "outputs": [
    {
     "name": "stdout",
     "output_type": "stream",
     "text": [
      "a = 1\n",
      "b = 2\n"
     ]
    }
   ],
   "source": [
    "from sqlglot import parse_one, exp\n",
    "e = parse_one(\"a = 1 and Not( b = 2)\", dialect='sqlite')\n",
    "\n",
    "for c in e.find_all(exp.Predicate):\n",
    "    print(c)\n"
   ]
  },
  {
   "cell_type": "code",
   "execution_count": 8,
   "metadata": {},
   "outputs": [
    {
     "name": "stdout",
     "output_type": "stream",
     "text": [
      "Original: CASE WHEN $3 = 0 THEN NULL ELSE CAST($3 AS BIGINT) END\n"
     ]
    },
    {
     "ename": "TypeError",
     "evalue": "'module' object is not callable",
     "output_type": "error",
     "traceback": [
      "\u001b[0;31m---------------------------------------------------------------------------\u001b[0m",
      "\u001b[0;31mTypeError\u001b[0m                                 Traceback (most recent call last)",
      "Cell \u001b[0;32mIn[8], line 41\u001b[0m\n\u001b[1;32m     38\u001b[0m \u001b[38;5;28mprint\u001b[39m(\u001b[38;5;124m\"\u001b[39m\u001b[38;5;124mOriginal:\u001b[39m\u001b[38;5;124m\"\u001b[39m, expression\u001b[38;5;241m.\u001b[39msql())\n\u001b[1;32m     40\u001b[0m \u001b[38;5;66;03m# After simplification\u001b[39;00m\n\u001b[0;32m---> 41\u001b[0m s \u001b[38;5;241m=\u001b[39m \u001b[43msimplify_expression\u001b[49m\u001b[43m(\u001b[49m\u001b[43mexpression\u001b[49m\u001b[43m)\u001b[49m\n\u001b[1;32m     42\u001b[0m \u001b[38;5;28mprint\u001b[39m(\u001b[38;5;124m\"\u001b[39m\u001b[38;5;124mSimplified:\u001b[39m\u001b[38;5;124m\"\u001b[39m, s\u001b[38;5;241m.\u001b[39msql() \u001b[38;5;28;01mif\u001b[39;00m s \u001b[38;5;241m!=\u001b[39m expression \u001b[38;5;28;01melse\u001b[39;00m \u001b[38;5;124m\"\u001b[39m\u001b[38;5;124mNo simplification possible\u001b[39m\u001b[38;5;124m\"\u001b[39m)\n",
      "Cell \u001b[0;32mIn[8], line 28\u001b[0m, in \u001b[0;36msimplify_expression\u001b[0;34m(expression)\u001b[0m\n\u001b[1;32m     26\u001b[0m \u001b[38;5;250m\u001b[39m\u001b[38;5;124;03m\"\"\"Apply all simplification rules including our CASE WHEN optimization\"\"\"\u001b[39;00m\n\u001b[1;32m     27\u001b[0m \u001b[38;5;66;03m# First apply SQLGlot's built-in simplifications\u001b[39;00m\n\u001b[0;32m---> 28\u001b[0m expression \u001b[38;5;241m=\u001b[39m \u001b[43msimplify\u001b[49m\u001b[43m(\u001b[49m\u001b[43mexpression\u001b[49m\u001b[43m)\u001b[49m\n\u001b[1;32m     30\u001b[0m \u001b[38;5;66;03m# Then apply our custom transformation\u001b[39;00m\n\u001b[1;32m     31\u001b[0m \u001b[38;5;28;01mreturn\u001b[39;00m expression\u001b[38;5;241m.\u001b[39mtransform(_simplify_case_when_cast, copy\u001b[38;5;241m=\u001b[39m\u001b[38;5;28;01mFalse\u001b[39;00m)\n",
      "\u001b[0;31mTypeError\u001b[0m: 'module' object is not callable"
     ]
    }
   ],
   "source": [
    "import sqlglot\n",
    "from sqlglot import exp\n",
    "from sqlglot.optimizer import simplify\n",
    "\n",
    "\n",
    "def _simplify_case_when_cast(node):\n",
    "    \"\"\"Transform function that simplifies CASE WHEN x = 0 THEN NULL ELSE CAST(x AS type)\"\"\"\n",
    "    if (\n",
    "        isinstance(node, exp.Case) and\n",
    "        len(node.expressions) == 1 and  # Only one WHEN clause\n",
    "        isinstance(node.expressions[0], exp.If) and\n",
    "        isinstance(node.expressions[0].this, exp.EQ) and  # WHEN x = 0\n",
    "        isinstance(node.expressions[0].this.right, exp.Literal) and\n",
    "        node.expressions[0].this.right.this == \"0\" and\n",
    "        isinstance(node.expressions[0].true, exp.Null) and  # THEN NULL\n",
    "        isinstance(node.expressions[0].false, exp.Cast) and  # ELSE CAST\n",
    "        node.expressions[0].false.this.sql() == node.expressions[0].this.left.sql()  # Same expr\n",
    "    ):\n",
    "        return node.expressions[0].this.left  # Return just the left side of comparison\n",
    "    \n",
    "    return node\n",
    "\n",
    "def simplify_expression(expression):\n",
    "    \"\"\"Apply all simplification rules including our CASE WHEN optimization\"\"\"\n",
    "    # First apply SQLGlot's built-in simplifications\n",
    "    expression = simplify(expression)\n",
    "    \n",
    "    # Then apply our custom transformation\n",
    "    return expression.transform(_simplify_case_when_cast, copy=False)\n",
    "\n",
    "# Example usage\n",
    "sql = \"CASE WHEN $3 = 0 THEN NULL ELSE CAST($3 AS BIGINT) END\"\n",
    "expression = sqlglot.parse_one(sql)\n",
    "\n",
    "# Before simplification\n",
    "print(\"Original:\", expression.sql())\n",
    "\n",
    "# After simplification\n",
    "s = simplify_expression(expression)\n",
    "print(\"Simplified:\", s.sql() if s != expression else \"No simplification possible\")"
   ]
  },
  {
   "cell_type": "code",
   "execution_count": 29,
   "metadata": {},
   "outputs": [
    {
     "name": "stdout",
     "output_type": "stream",
     "text": [
      "SAT:\n",
      "[datetime = \"2001-09-02 00:00:30.048\"]\n"
     ]
    }
   ],
   "source": [
    "from z3 import *\n",
    "\n",
    "s = String('datetime')\n",
    "\n",
    "digit = Range('0', '9')\n",
    "two_digits = Concat(digit, digit)\n",
    "three_digits = Concat(digit, digit, digit)\n",
    "four_digits = Concat(digit, digit, digit, digit)\n",
    "\n",
    "# YYYY/MM/DD HH:MM:SS.mmm\n",
    "datetime_re = Concat(\n",
    "    four_digits, Re('-'),\n",
    "    two_digits, Re('-'),\n",
    "    two_digits, Re(' '),\n",
    "    two_digits, Re(':'),\n",
    "    two_digits, Re(':'),\n",
    "    two_digits, Re('.'),\n",
    "    three_digits\n",
    ")\n",
    "\n",
    "\n",
    "s = String('datetime')\n",
    "\n",
    "year = SubString(s, 0, 4)\n",
    "year_int = StrToInt(year)\n",
    "\n",
    "solver = Solver()\n",
    "# Extract substrings\n",
    "year    = SubString(s, 0, 4)\n",
    "month   = SubString(s, 5, 2)\n",
    "day     = SubString(s, 8, 2)\n",
    "hour    = SubString(s, 11, 2)\n",
    "minute  = SubString(s, 14, 2)\n",
    "second  = SubString(s, 17, 2)\n",
    "ms      = SubString(s, 20, 3)\n",
    "\n",
    "# Convert to integers\n",
    "year_i    = StrToInt(year)\n",
    "month_i   = StrToInt(month)\n",
    "day_i     = StrToInt(day)\n",
    "hour_i    = StrToInt(hour)\n",
    "minute_i  = StrToInt(minute)\n",
    "second_i  = StrToInt(second)\n",
    "ms_i      = StrToInt(ms)\n",
    "\n",
    "# Semantic constraints\n",
    "solver.add(year_i >= 1900, year_i <= 2100)\n",
    "solver.add(month_i >= 1,  month_i <= 12)\n",
    "solver.add(day_i >= 1,     day_i <= 31)\n",
    "solver.add(hour_i >= 0,    hour_i <= 23)\n",
    "solver.add(minute_i >= 0,  minute_i <= 59)\n",
    "solver.add(second_i >= 0,  second_i <= 59)\n",
    "solver.add(ms_i >= 0,      ms_i <= 999)\n",
    "solver.add(InRe(s, datetime_re))\n",
    "\n",
    "# solver.add(InRe(s, datetime_format))   # match structure\n",
    "solver.add(year_int > '1991')            # semantic constraint\n",
    "\n",
    "if solver.check() == sat:\n",
    "    print(\"SAT:\")\n",
    "    print(solver.model())\n",
    "else:\n",
    "    print(\"UNSAT\")"
   ]
  }
 ],
 "metadata": {
  "kernelspec": {
   "display_name": "parseval_dev",
   "language": "python",
   "name": "python3"
  },
  "language_info": {
   "codemirror_mode": {
    "name": "ipython",
    "version": 3
   },
   "file_extension": ".py",
   "mimetype": "text/x-python",
   "name": "python",
   "nbconvert_exporter": "python",
   "pygments_lexer": "ipython3",
   "version": "3.8.20"
  }
 },
 "nbformat": 4,
 "nbformat_minor": 2
}
