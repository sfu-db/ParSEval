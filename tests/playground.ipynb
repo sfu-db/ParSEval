{
 "cells": [
  {
   "cell_type": "code",
   "execution_count": 29,
   "metadata": {},
   "outputs": [],
   "source": [
    "import enum\n",
    "from sqlglot import exp, parse_one, parse\n",
    "\n"
   ]
  },
  {
   "cell_type": "code",
   "execution_count": 14,
   "metadata": {},
   "outputs": [],
   "source": [
    "schema = \"\"\"CREATE TABLE IF NOT EXISTS `frpm` (`CDSCode` TEXT  CHECK (`CDSCode` IN ('active', 'inactive', 'pending')), `Academic Year` TEXT not null, `County Code` TEXT, `District Code` INT, `Free Meal Count (K-12)` FLOAT)\"\"\""
   ]
  },
  {
   "cell_type": "code",
   "execution_count": 17,
   "metadata": {},
   "outputs": [
    {
     "data": {
      "text/plain": [
       "ColumnDef(\n",
       "  this=Identifier(this=CDSCOde, quoted=False),\n",
       "  position=5)"
      ]
     },
     "execution_count": 17,
     "metadata": {},
     "output_type": "execute_result"
    }
   ],
   "source": [
    "exp.ColumnDef(this = exp.to_identifier('CDSCOde'), position = 5)"
   ]
  },
  {
   "cell_type": "code",
   "execution_count": 16,
   "metadata": {},
   "outputs": [
    {
     "data": {
      "text/plain": [
       "Create(\n",
       "  this=Schema(\n",
       "    this=Table(\n",
       "      this=Identifier(this=frpm, quoted=True)),\n",
       "    expressions=[\n",
       "      ColumnDef(\n",
       "        this=Identifier(this=CDSCode, quoted=True),\n",
       "        kind=DataType(this=Type.TEXT, nested=False),\n",
       "        constraints=[\n",
       "          ColumnConstraint(\n",
       "            kind=CheckColumnConstraint(\n",
       "              this=In(\n",
       "                this=Column(\n",
       "                  this=Identifier(this=CDSCode, quoted=True)),\n",
       "                expressions=[\n",
       "                  Literal(this=active, is_string=True),\n",
       "                  Literal(this=inactive, is_string=True),\n",
       "                  Literal(this=pending, is_string=True)])))]),\n",
       "      ColumnDef(\n",
       "        this=Identifier(this=Academic Year, quoted=True),\n",
       "        kind=DataType(this=Type.TEXT, nested=False),\n",
       "        constraints=[\n",
       "          ColumnConstraint(\n",
       "            kind=NotNullColumnConstraint())]),\n",
       "      ColumnDef(\n",
       "        this=Identifier(this=County Code, quoted=True),\n",
       "        kind=DataType(this=Type.TEXT, nested=False)),\n",
       "      ColumnDef(\n",
       "        this=Identifier(this=District Code, quoted=True),\n",
       "        kind=DataType(this=Type.INT, nested=False)),\n",
       "      ColumnDef(\n",
       "        this=Identifier(this=Free Meal Count (K-12), quoted=True),\n",
       "        kind=DataType(this=Type.FLOAT, nested=False))]),\n",
       "  kind=TABLE,\n",
       "  exists=True)"
      ]
     },
     "execution_count": 16,
     "metadata": {},
     "output_type": "execute_result"
    }
   ],
   "source": [
    "parse_one(schema, dialect = 'sqlite')"
   ]
  },
  {
   "cell_type": "code",
   "execution_count": null,
   "metadata": {},
   "outputs": [
    {
     "data": {
      "text/html": [
       "[x = 5, y = 1, div0 = [else &rarr; 5], mod0 = [else &rarr; 0]]"
      ],
      "text/plain": [
       "[x = 5, y = 1, div0 = [else -> 5], mod0 = [else -> 0]]"
      ]
     },
     "execution_count": 33,
     "metadata": {},
     "output_type": "execute_result"
    }
   ],
   "source": [
    "import z3\n",
    "\n",
    "a, b = z3.Ints('x y')\n",
    "\n",
    "solver = z3.Solver()\n",
    "\n",
    "solver.add(b != 0)\n",
    "z3.div\n",
    "solver.add( a/b == 5)\n",
    "\n",
    "solver.check()\n",
    "solver.model()"
   ]
  }
 ],
 "metadata": {
  "kernelspec": {
   "display_name": "Python 3",
   "language": "python",
   "name": "python3"
  },
  "language_info": {
   "codemirror_mode": {
    "name": "ipython",
    "version": 3
   },
   "file_extension": ".py",
   "mimetype": "text/x-python",
   "name": "python",
   "nbconvert_exporter": "python",
   "pygments_lexer": "ipython3",
   "version": "3.8.19"
  }
 },
 "nbformat": 4,
 "nbformat_minor": 2
}
