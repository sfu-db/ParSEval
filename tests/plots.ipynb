{
 "cells": [
  {
   "cell_type": "code",
   "execution_count": 1,
   "metadata": {},
   "outputs": [],
   "source": [
    "%load_ext autoreload\n",
    "%autoreload 2\n",
    "\n",
    "import sys\n",
    "import os\n",
    "current_dir = os.path.abspath('')\n",
    "parent_dir = os.path.abspath(os.path.join(current_dir, os.pardir))\n",
    "sys.path.append(parent_dir)\n",
    "\n",
    "\n",
    "\n",
    "import numpy as np\n",
    "import pandas as pd\n",
    "import seaborn as sns\n",
    "import matplotlib\n",
    "import matplotlib.pyplot as plt\n",
    "from matplotlib import style\n"
   ]
  },
  {
   "cell_type": "code",
   "execution_count": 2,
   "metadata": {},
   "outputs": [],
   "source": [
    "import json\n",
    "import pandas as pd"
   ]
  },
  {
   "cell_type": "code",
   "execution_count": 4,
   "metadata": {},
   "outputs": [],
   "source": [
    "CHESS_PRED_FP = \"/home/chunyu/Projects/TestSuiteEval-main/datasets/bird/chess_pred.json\"\n",
    "BIRD_DAIL2_FP = \"/home/chunyu/Projects/Dockers/autotest/.datasets/benchmarks/bird_dail.jsonlines\""
   ]
  },
  {
   "cell_type": "code",
   "execution_count": 5,
   "metadata": {},
   "outputs": [],
   "source": [
    "from sqlglot import parse_one"
   ]
  },
  {
   "cell_type": "code",
   "execution_count": 20,
   "metadata": {},
   "outputs": [
    {
     "data": {
      "text/html": [
       "<div>\n",
       "<style scoped>\n",
       "    .dataframe tbody tr th:only-of-type {\n",
       "        vertical-align: middle;\n",
       "    }\n",
       "\n",
       "    .dataframe tbody tr th {\n",
       "        vertical-align: top;\n",
       "    }\n",
       "\n",
       "    .dataframe thead th {\n",
       "        text-align: right;\n",
       "    }\n",
       "</style>\n",
       "<table border=\"1\" class=\"dataframe\">\n",
       "  <thead>\n",
       "    <tr style=\"text-align: right;\">\n",
       "      <th></th>\n",
       "      <th>benchmark</th>\n",
       "      <th>index</th>\n",
       "      <th>schema</th>\n",
       "      <th>constraint</th>\n",
       "      <th>pair</th>\n",
       "    </tr>\n",
       "  </thead>\n",
       "  <tbody>\n",
       "    <tr>\n",
       "      <th>0</th>\n",
       "      <td>california_schools</td>\n",
       "      <td>1</td>\n",
       "      <td>{'FRPM': {'CDSCODE': 'VARCHAR', 'ACADEMIC YEAR...</td>\n",
       "      <td>[{'primary': [{'value': 'FRPM__CDSCODE'}]}, {'...</td>\n",
       "      <td>[SELECT `Free Meal Count (K-12)` / `Enrollment...</td>\n",
       "    </tr>\n",
       "  </tbody>\n",
       "</table>\n",
       "</div>"
      ],
      "text/plain": [
       "            benchmark  index  \\\n",
       "0  california_schools      1   \n",
       "\n",
       "                                              schema  \\\n",
       "0  {'FRPM': {'CDSCODE': 'VARCHAR', 'ACADEMIC YEAR...   \n",
       "\n",
       "                                          constraint  \\\n",
       "0  [{'primary': [{'value': 'FRPM__CDSCODE'}]}, {'...   \n",
       "\n",
       "                                                pair  \n",
       "0  [SELECT `Free Meal Count (K-12)` / `Enrollment...  "
      ]
     },
     "execution_count": 20,
     "metadata": {},
     "output_type": "execute_result"
    }
   ],
   "source": [
    "df = pd.read_json(BIRD_DAIL2_FP, lines= True)\n",
    "df.head(1)"
   ]
  },
  {
   "cell_type": "code",
   "execution_count": 6,
   "metadata": {},
   "outputs": [],
   "source": [
    "pred = json.load(open(CHESS_PRED_FP))"
   ]
  },
  {
   "cell_type": "code",
   "execution_count": 9,
   "metadata": {},
   "outputs": [],
   "source": [
    "with open(\"/home/chunyu/Projects/Dockers/autotest/.datasets/benchmarks2/sqlsolver/bird/chess/sql2.sql\", 'w') as fp:\n",
    "    for row in pred:\n",
    "        p =row['pred']\n",
    "\n",
    "        try:\n",
    "            p = parse_one(p, dialect = 'sqlite').sql(dialect='mysql')\n",
    "        except Exception as e:\n",
    "            ...\n",
    "        finally:\n",
    "            fp.write(p + '\\n')\n",
    "    "
   ]
  },
  {
   "cell_type": "code",
   "execution_count": 16,
   "metadata": {},
   "outputs": [],
   "source": [
    "for index, row in df.iterrows():\n",
    "    pair = row['pair']\n",
    "    p = pred[row['index'] - 1]['pred']\n",
    "    try:\n",
    "        pair[1] = parse_one(p, dialect = 'sqlite').sql(dialect='mysql')\n",
    "    except Exception as e:\n",
    "        pair[1] = p\n",
    "        ...\n",
    "    finally:\n",
    "        df.at[index, 'pair'] = pair  # Update value\n"
   ]
  },
  {
   "cell_type": "code",
   "execution_count": 22,
   "metadata": {},
   "outputs": [],
   "source": [
    "df.to_json(\"/home/chunyu/Projects/Dockers/autotest/.datasets/benchmarks/bird_chess_verieql.jsonlines\", lines= True, orient= 'records')"
   ]
  },
  {
   "cell_type": "code",
   "execution_count": 1,
   "metadata": {},
   "outputs": [],
   "source": [
    "from sqlglot import parse_one, exp"
   ]
  },
  {
   "cell_type": "code",
   "execution_count": null,
   "metadata": {},
   "outputs": [],
   "source": [
    "import sqlite3\n",
    "\n",
    "def count_total_rows(database_path):\n",
    "    # Connect to the SQLite database\n",
    "    conn = sqlite3.connect(database_path)\n",
    "    cursor = conn.cursor()\n",
    "\n",
    "    # Get the list of all tables\n",
    "    cursor.execute(\"SELECT name FROM sqlite_master WHERE type='table';\")\n",
    "    tables = cursor.fetchall()\n",
    "    total_rows = 0\n",
    "    # Iterate through each table and count rows\n",
    "    for table in tables:\n",
    "        table_name = table[0]\n",
    "        cursor.execute(f\"SELECT COUNT(*) FROM `{table_name}`\")\n",
    "        count = cursor.fetchone()[0]\n",
    "        total_rows += count\n",
    "\n",
    "    # Close the connection\n",
    "    conn.close()\n",
    "\n",
    "    return total_rows\n",
    "\n",
    "import os\n",
    "def get_all_files(folder_path):\n",
    "    files = [os.path.join(folder_path, f) for f in os.listdir(folder_path) ]\n",
    "    return files\n",
    "# Example usage\n",
    "# folder_path = '/home/chunyu/Projects/ParSEval/results/dail/2025-01-31_10-04-20'\n",
    "# files = get_all_files(folder_path)\n",
    "# print(\"Files:\", len(files))"
   ]
  },
  {
   "cell_type": "markdown",
   "metadata": {},
   "source": [
    "### Tree Structure"
   ]
  },
  {
   "cell_type": "code",
   "execution_count": 2,
   "metadata": {},
   "outputs": [],
   "source": [
    "from collections import defaultdict\n",
    "\n",
    "class ConstraintGroup:\n",
    "    \"\"\"Represents a grouped set of constraints over array elements.\"\"\"\n",
    "    def __init__(self):\n",
    "        self.groups = defaultdict(set)  # Maps constraint types to indexed elements\n",
    "\n",
    "    def add_constraint(self, var, condition):\n",
    "        \"\"\"Groups constraints by condition.\"\"\"\n",
    "        self.groups[condition].add(var)\n",
    "\n",
    "    def get_factorized_constraints(self):\n",
    "        \"\"\"Returns merged constraints in generalized form.\"\"\"\n",
    "        return [f\"{condition} for {vars}\" for condition, vars in self.groups.items()]\n",
    "\n",
    "    def __repr__(self):\n",
    "        return str(self.get_factorized_constraints())"
   ]
  },
  {
   "cell_type": "code",
   "execution_count": 4,
   "metadata": {},
   "outputs": [
    {
     "name": "stdout",
     "output_type": "stream",
     "text": [
      "[\"> 30 for {'a0', 'a1'}\", \"< 30 for {'a2'}\", \"== 5 for {'a0', 'a2'}\"]\n"
     ]
    }
   ],
   "source": [
    "cg = ConstraintGroup()\n",
    "cg.add_constraint(\"a0\", \"> 30\")\n",
    "cg.add_constraint(\"a1\", \"> 30\")\n",
    "cg.add_constraint(\"a2\", \"< 30\")\n",
    "cg.add_constraint(\"a0\", \"== 5\")\n",
    "cg.add_constraint(\"a2\", \"== 5\")\n",
    "\n",
    "print(cg.get_factorized_constraints())"
   ]
  },
  {
   "cell_type": "code",
   "execution_count": null,
   "metadata": {},
   "outputs": [],
   "source": [
    "class PathNode:\n",
    "    def __init__(self, constraints=None, cluster=None):\n",
    "        self.constraint_group = ConstraintGroup()  # Store constraints in grouped form\n",
    "        if constraints:\n",
    "            for var, cond in constraints:\n",
    "                self.constraint_group.add_constraint(var, cond)\n",
    "        \n",
    "        self.cluster = cluster  # Execution path category\n",
    "        self.children = []\n",
    "\n",
    "    def add_child(self, constraints, cluster):\n",
    "        \"\"\"Adds a child node, merging its constraints.\"\"\"\n",
    "        child = PathNode([], cluster)\n",
    "        child.constraint_group.groups = self.constraint_group.groups.copy()  # Copy parent constraints\n",
    "        \n",
    "        for (var, cond) in constraints:\n",
    "            child.constraint_group.add_constraint(var, cond)  # Add new constraints\n",
    "\n",
    "        self.children.append(child)\n",
    "        return child\n",
    "\n",
    "    def __repr__(self):\n",
    "        return f\"Node(Constraints={self.constraint_group}, Tag={self.cluster.tag}, Priority={self.cluster.priority})\"\n",
    "\n",
    "class Cluster:\n",
    "    \"\"\"Represents a group of execution paths sharing the same tag.\"\"\"\n",
    "    def __init__(self, tag, priority):\n",
    "        self.tag = tag\n",
    "        self.priority = priority\n",
    "        self.nodes = []  # List of nodes in this cluster\n",
    "\n",
    "    def add_node(self, node):\n",
    "        \"\"\"Adds a node to the cluster.\"\"\"\n",
    "        self.nodes.append(node)\n",
    "\n",
    "    def __repr__(self):\n",
    "        return f\"Cluster(Tag={self.tag}, Priority={self.priority}, Nodes={len(self.nodes)})\"\n",
    "\n",
    "class PathTree:\n",
    "    def __init__(self):\n",
    "        self.root = PathNode([(None, \"True\")], Cluster(\"Root\", 0))  # Default root node\n",
    "        self.clusters = {}  # Dictionary of Cluster objects\n",
    "\n",
    "    def create_cluster(self, tag, priority):\n",
    "        \"\"\"Creates a new cluster and saves it.\"\"\"\n",
    "        self.clusters[tag] = Cluster(tag, priority)\n",
    "\n",
    "    def get_cluster(self, tag):\n",
    "        \"\"\"Retrieves an existing cluster by tag.\"\"\"\n",
    "        return self.clusters.get(tag, None)\n",
    "\n",
    "    def traverse(self, node=None, depth=0):\n",
    "        \"\"\"Recursively prints the tree structure.\"\"\"\n",
    "        node = node if node else self.root\n",
    "        print(\"  \" * depth + f\"{node.constraint_group} [Tag: {node.cluster.tag}, Priority: {node.cluster.priority}]\")\n",
    "        for child in node.children:\n",
    "            self.traverse(child, depth + 1)\n",
    "\n",
    "    def get_highest_priority_path(self):\n",
    "        \"\"\"Finds the next execution path based on cluster priorities.\"\"\"\n",
    "        best_cluster = max(self.clusters.values(), key=lambda c: c.priority, default=None)\n",
    "        return best_cluster.nodes[0] if best_cluster and best_cluster.nodes else None\n",
    "    \n",
    "    def get_best_execution_path(self):\n",
    "        \"\"\"Finds the most promising execution path using constraint uniqueness.\"\"\"\n",
    "        queue = [self.root]\n",
    "        best_node = None\n",
    "        max_unique_constraints = 0\n",
    "\n",
    "        while queue:\n",
    "            node = queue.pop(0)\n",
    "            unique_constraints = len(node.constraint_group.groups)  # Count unique constraints\n",
    "            if unique_constraints > max_unique_constraints:\n",
    "                max_unique_constraints = unique_constraints\n",
    "                best_node = node\n",
    "            queue.extend(node.children)\n",
    "\n",
    "        return best_node  # Return path with the most unique constraints"
   ]
  },
  {
   "cell_type": "code",
   "execution_count": 15,
   "metadata": {},
   "outputs": [
    {
     "name": "stdout",
     "output_type": "stream",
     "text": [
      "['True for {None}'] [Tag: Root, Priority: 0]\n",
      "  ['True for {None}', \"> 30 for {'a2', 'a0', 'a1'}\"] [Tag: Critical, Priority: 3]\n",
      "    ['True for {None}', \"> 30 for {'a2', 'a0', 'a1'}\", \"== 5 for {'a1'}\"] [Tag: Boundary, Priority: 2]\n",
      "  ['True for {None}', \"<= 30 for {'a0', 'a1'}\"] [Tag: Boundary, Priority: 2]\n",
      "\n",
      "Next best path to execute: Node(Constraints=['True for {None}', \"> 30 for {'a2', 'a0', 'a1'}\", \"== 5 for {'a1'}\"], Tag=Boundary, Priority=2)\n"
     ]
    }
   ],
   "source": [
    "tree = PathTree()\n",
    "\n",
    "# Create execution clusters\n",
    "tree.create_cluster(\"Critical\", 3)\n",
    "tree.create_cluster(\"Boundary\", 2)\n",
    "tree.create_cluster(\"Normal\", 1)\n",
    "\n",
    "# Get clusters\n",
    "critical = tree.get_cluster(\"Critical\")\n",
    "boundary = tree.get_cluster(\"Boundary\")\n",
    "\n",
    "# Root node\n",
    "x_positive = tree.root.add_child([(\"a0\", \"> 30\"), (\"a1\", \"> 30\"), (\"a2\", \"> 30\")], critical)\n",
    "x_negative = tree.root.add_child([(\"a0\", \"<= 30\"), (\"a1\", \"<= 30\")], boundary)\n",
    "\n",
    "# Further branches\n",
    "y_large = x_positive.add_child([(\"a1\", \"== 5\")], boundary)\n",
    "\n",
    "# Print tree\n",
    "tree.traverse()\n",
    "\n",
    "# Get best execution path\n",
    "best_path = tree.get_best_execution_path()\n",
    "print(f\"\\nNext best path to execute: {best_path}\")"
   ]
  },
  {
   "cell_type": "code",
   "execution_count": 17,
   "metadata": {},
   "outputs": [
    {
     "data": {
      "text/plain": [
       "Cluster(Tag=Critical, Priority=3, Nodes=0)"
      ]
     },
     "execution_count": 17,
     "metadata": {},
     "output_type": "execute_result"
    }
   ],
   "source": [
    "tree.get_cluster('Critical')"
   ]
  },
  {
   "cell_type": "code",
   "execution_count": null,
   "metadata": {},
   "outputs": [
    {
     "data": {
      "text/plain": [
       "Not(\n",
       "  this=Paren(\n",
       "    this=Or(\n",
       "      this=Column(\n",
       "        this=Identifier(this=a, quoted=False)),\n",
       "      expression=Column(\n",
       "        this=Identifier(this=b, quoted=False)))))"
      ]
     },
     "execution_count": 6,
     "metadata": {},
     "output_type": "execute_result"
    }
   ],
   "source": [
    "from sqlglot import parse_one\n",
    "\n",
    "from sqlglot.optimizer import normalize\n",
    "normalize.normalize(parse_one('not (a or b)'), dnf= True)"
   ]
  },
  {
   "cell_type": "markdown",
   "metadata": {},
   "source": [
    "### Plot Branches"
   ]
  },
  {
   "cell_type": "code",
   "execution_count": 17,
   "metadata": {},
   "outputs": [],
   "source": [
    "BRANCH_PATH = \"/home/chunyu/Projects/ParSEval/results/dail/2025-01-31_10-04-20/branch.log\""
   ]
  },
  {
   "cell_type": "code",
   "execution_count": 18,
   "metadata": {},
   "outputs": [
    {
     "data": {
      "text/plain": [
       "0"
      ]
     },
     "execution_count": 18,
     "metadata": {},
     "output_type": "execute_result"
    }
   ],
   "source": [
    "import ast\n",
    "df = []\n",
    "err = []\n",
    "with open(BRANCH_PATH) as fp:\n",
    "    for line in fp.readlines():\n",
    "        try:\n",
    "            line = line.replace('set()', '[]')\n",
    "        # print(line)\n",
    "            df.append(ast.literal_eval(f\"\"\"{line}\"\"\"))\n",
    "        except Exception as e:\n",
    "            err.append(line)\n",
    "            print(line)\n",
    "len(err)"
   ]
  },
  {
   "cell_type": "markdown",
   "metadata": {},
   "source": [
    "### Plot Support Ratio and End to End Performance"
   ]
  },
  {
   "cell_type": "code",
   "execution_count": 21,
   "metadata": {},
   "outputs": [
    {
     "data": {
      "text/plain": [
       "0"
      ]
     },
     "execution_count": 21,
     "metadata": {},
     "output_type": "execute_result"
    }
   ],
   "source": [
    "METRIC_PATH = \"/home/chunyu/Projects/ParSEval/results/dail/2025-01-31_10-04-20/metric.log\"\n",
    "import ast\n",
    "metric_df = []\n",
    "err = []\n",
    "with open(METRIC_PATH) as fp:\n",
    "    for line in fp.readlines():\n",
    "        try:\n",
    "            line = line.replace('set()', '[]')\n",
    "        # print(line)\n",
    "            metric_df.append(ast.literal_eval(f\"\"\"{line}\"\"\"))\n",
    "        except Exception as e:\n",
    "            err.append(line)\n",
    "            print(line)\n",
    "len(err)"
   ]
  },
  {
   "cell_type": "code",
   "execution_count": 24,
   "metadata": {},
   "outputs": [
    {
     "data": {
      "text/plain": [
       "85.52000434526413"
      ]
     },
     "execution_count": 24,
     "metadata": {},
     "output_type": "execute_result"
    }
   ],
   "source": [
    "data_gen_time = 0\n",
    "cnt = 0\n",
    "for row in metric_df:\n",
    "    if row['state'] in ['SUCCESS', 'TIMEOUT']:\n",
    "        data_gen_time += row['data_gen']\n",
    "        cnt += 1\n",
    "\n",
    "data_gen_time / cnt\n"
   ]
  },
  {
   "cell_type": "code",
   "execution_count": 26,
   "metadata": {},
   "outputs": [
    {
     "data": {
      "text/plain": [
       "662"
      ]
     },
     "execution_count": 26,
     "metadata": {},
     "output_type": "execute_result"
    }
   ],
   "source": [
    "len(tuple(row for row in metric_df if row['state'] in ['SUCCESS', 'TIMEOUT']))"
   ]
  },
  {
   "cell_type": "code",
   "execution_count": 44,
   "metadata": {},
   "outputs": [
    {
     "data": {
      "text/plain": [
       "13.512323943661972"
      ]
     },
     "execution_count": 44,
     "metadata": {},
     "output_type": "execute_result"
    }
   ],
   "source": [
    "parseval_complete_cnt = 0\n",
    "for row in df:\n",
    "    parseval_complete_cnt += 2 ** len(row['negatives'])\n",
    "parseval_complete_cnt / len(df)"
   ]
  },
  {
   "cell_type": "code",
   "execution_count": 45,
   "metadata": {},
   "outputs": [
    {
     "data": {
      "text/plain": [
       "1.852112676056338"
      ]
     },
     "execution_count": 45,
     "metadata": {},
     "output_type": "execute_result"
    }
   ],
   "source": [
    "parseval_operator_cnt = 0\n",
    "for row in df:\n",
    "    ops = set()\n",
    "    for b in row['negatives']:\n",
    "        if b.startswith('NEG_o'):\n",
    "            ops.add(b[:6])\n",
    "    parseval_operator_cnt += len(ops)\n",
    "parseval_operator_cnt / len(df)"
   ]
  },
  {
   "cell_type": "markdown",
   "metadata": {},
   "source": [
    "### Plot SMT Complexity"
   ]
  },
  {
   "cell_type": "code",
   "execution_count": 2,
   "metadata": {},
   "outputs": [],
   "source": [
    "SMT_FP = \"/home/chunyu/Projects/ParSEval/results/dail/2025-02-13_16-01-36/smt.log\""
   ]
  },
  {
   "cell_type": "code",
   "execution_count": null,
   "metadata": {},
   "outputs": [
    {
     "data": {
      "text/plain": [
       "1076.5"
      ]
     },
     "execution_count": 10,
     "metadata": {},
     "output_type": "execute_result"
    }
   ],
   "source": [
    "import ast\n",
    "smt_df = []\n",
    "total_nodes_in_smt = 0\n",
    "with open(SMT_FP) as fp:\n",
    "    for line in fp.readlines():\n",
    "        row = line\n",
    "        # row = ast.literal_eval(line)\n",
    "        # 'complexity': 248}\n",
    "        smt_df.append(row)\n",
    "        total_nodes_in_smt += int(row[row.rindex(':') + 1 : row.rindex('}')])\n",
    "\n",
    "total_nodes_in_smt / len(smt_df)\n"
   ]
  },
  {
   "cell_type": "code",
   "execution_count": null,
   "metadata": {},
   "outputs": [
    {
     "ename": "ImportError",
     "evalue": "cannot import name 'tarfile' from 'backports' (/home/chunyu/miniconda3/envs/python38/lib/python3.8/site-packages/backports/__init__.py)",
     "output_type": "error",
     "traceback": [
      "\u001b[0;31m---------------------------------------------------------------------------\u001b[0m",
      "\u001b[0;31mImportError\u001b[0m                               Traceback (most recent call last)",
      "\u001b[0;32m/tmp/ipykernel_1301327/978196663.py\u001b[0m in \u001b[0;36m<module>\u001b[0;34m\u001b[0m\n\u001b[0;32m----> 1\u001b[0;31m \u001b[0;32mfrom\u001b[0m \u001b[0mz3\u001b[0m \u001b[0;32mimport\u001b[0m \u001b[0;34m*\u001b[0m\u001b[0;34m\u001b[0m\u001b[0;34m\u001b[0m\u001b[0m\n\u001b[0m\u001b[1;32m      2\u001b[0m \u001b[0;34m\u001b[0m\u001b[0m\n\u001b[1;32m      3\u001b[0m \u001b[0mx\u001b[0m\u001b[0;34m,\u001b[0m \u001b[0my\u001b[0m \u001b[0;34m=\u001b[0m \u001b[0mInts\u001b[0m\u001b[0;34m(\u001b[0m\u001b[0;34m'x y'\u001b[0m\u001b[0;34m)\u001b[0m\u001b[0;34m\u001b[0m\u001b[0;34m\u001b[0m\u001b[0m\n\u001b[1;32m      4\u001b[0m \u001b[0ms\u001b[0m \u001b[0;34m=\u001b[0m \u001b[0mSolver\u001b[0m\u001b[0;34m(\u001b[0m\u001b[0;34m)\u001b[0m\u001b[0;34m\u001b[0m\u001b[0;34m\u001b[0m\u001b[0m\n\u001b[1;32m      5\u001b[0m \u001b[0ms\u001b[0m\u001b[0;34m.\u001b[0m\u001b[0madd\u001b[0m\u001b[0;34m(\u001b[0m\u001b[0mx\u001b[0m \u001b[0;34m+\u001b[0m \u001b[0my\u001b[0m \u001b[0;34m>\u001b[0m \u001b[0;36m10\u001b[0m\u001b[0;34m,\u001b[0m \u001b[0mx\u001b[0m \u001b[0;34m<\u001b[0m \u001b[0my\u001b[0m\u001b[0;34m,\u001b[0m \u001b[0my\u001b[0m \u001b[0;34m<\u001b[0m \u001b[0;36m5\u001b[0m\u001b[0;34m)\u001b[0m\u001b[0;34m\u001b[0m\u001b[0;34m\u001b[0m\u001b[0m\n",
      "\u001b[0;32m~/miniconda3/envs/python38/lib/python3.8/site-packages/z3/__init__.py\u001b[0m in \u001b[0;36m<module>\u001b[0;34m\u001b[0m\n\u001b[0;32m----> 1\u001b[0;31m \u001b[0;32mfrom\u001b[0m \u001b[0;34m.\u001b[0m\u001b[0mz3\u001b[0m \u001b[0;32mimport\u001b[0m \u001b[0;34m*\u001b[0m\u001b[0;34m\u001b[0m\u001b[0;34m\u001b[0m\u001b[0m\n\u001b[0m\u001b[1;32m      2\u001b[0m \u001b[0;34m\u001b[0m\u001b[0m\n\u001b[1;32m      3\u001b[0m \u001b[0;32mfrom\u001b[0m \u001b[0;34m.\u001b[0m \u001b[0;32mimport\u001b[0m \u001b[0mz3num\u001b[0m\u001b[0;34m\u001b[0m\u001b[0;34m\u001b[0m\u001b[0m\n\u001b[1;32m      4\u001b[0m \u001b[0;32mfrom\u001b[0m \u001b[0;34m.\u001b[0m \u001b[0;32mimport\u001b[0m \u001b[0mz3poly\u001b[0m\u001b[0;34m\u001b[0m\u001b[0;34m\u001b[0m\u001b[0m\n\u001b[1;32m      5\u001b[0m \u001b[0;32mfrom\u001b[0m \u001b[0;34m.\u001b[0m \u001b[0;32mimport\u001b[0m \u001b[0mz3printer\u001b[0m\u001b[0;34m\u001b[0m\u001b[0;34m\u001b[0m\u001b[0m\n",
      "\u001b[0;32m~/miniconda3/envs/python38/lib/python3.8/site-packages/z3/z3.py\u001b[0m in \u001b[0;36m<module>\u001b[0;34m\u001b[0m\n\u001b[1;32m     44\u001b[0m \u001b[0mfailed\u001b[0m\u001b[0;34m:\u001b[0m \u001b[0msort\u001b[0m \u001b[0mmismatch\u001b[0m\u001b[0;34m\u001b[0m\u001b[0;34m\u001b[0m\u001b[0m\n\u001b[1;32m     45\u001b[0m \"\"\"\n\u001b[0;32m---> 46\u001b[0;31m \u001b[0;32mfrom\u001b[0m \u001b[0;34m.\u001b[0m \u001b[0;32mimport\u001b[0m \u001b[0mz3core\u001b[0m\u001b[0;34m\u001b[0m\u001b[0;34m\u001b[0m\u001b[0m\n\u001b[0m\u001b[1;32m     47\u001b[0m \u001b[0;32mfrom\u001b[0m \u001b[0;34m.\u001b[0m\u001b[0mz3core\u001b[0m \u001b[0;32mimport\u001b[0m \u001b[0;34m*\u001b[0m\u001b[0;34m\u001b[0m\u001b[0;34m\u001b[0m\u001b[0m\n\u001b[1;32m     48\u001b[0m \u001b[0;32mfrom\u001b[0m \u001b[0;34m.\u001b[0m\u001b[0mz3types\u001b[0m \u001b[0;32mimport\u001b[0m \u001b[0;34m*\u001b[0m\u001b[0;34m\u001b[0m\u001b[0;34m\u001b[0m\u001b[0m\n",
      "\u001b[0;32m~/miniconda3/envs/python38/lib/python3.8/site-packages/z3/z3core.py\u001b[0m in \u001b[0;36m<module>\u001b[0;34m\u001b[0m\n\u001b[1;32m      3\u001b[0m \u001b[0;32mimport\u001b[0m \u001b[0msys\u001b[0m\u001b[0;34m,\u001b[0m \u001b[0mos\u001b[0m\u001b[0;34m\u001b[0m\u001b[0;34m\u001b[0m\u001b[0m\n\u001b[1;32m      4\u001b[0m \u001b[0;32mimport\u001b[0m \u001b[0mctypes\u001b[0m\u001b[0;34m\u001b[0m\u001b[0;34m\u001b[0m\u001b[0m\n\u001b[0;32m----> 5\u001b[0;31m \u001b[0;32mimport\u001b[0m \u001b[0mpkg_resources\u001b[0m\u001b[0;34m\u001b[0m\u001b[0;34m\u001b[0m\u001b[0m\n\u001b[0m\u001b[1;32m      6\u001b[0m \u001b[0;32mfrom\u001b[0m \u001b[0;34m.\u001b[0m\u001b[0mz3types\u001b[0m \u001b[0;32mimport\u001b[0m \u001b[0;34m*\u001b[0m\u001b[0;34m\u001b[0m\u001b[0;34m\u001b[0m\u001b[0m\n\u001b[1;32m      7\u001b[0m \u001b[0;32mfrom\u001b[0m \u001b[0;34m.\u001b[0m\u001b[0mz3consts\u001b[0m \u001b[0;32mimport\u001b[0m \u001b[0;34m*\u001b[0m\u001b[0;34m\u001b[0m\u001b[0;34m\u001b[0m\u001b[0m\n",
      "\u001b[0;32m~/miniconda3/envs/python38/lib/python3.8/site-packages/pkg_resources/__init__.py\u001b[0m in \u001b[0;36m<module>\u001b[0;34m\u001b[0m\n\u001b[1;32m     93\u001b[0m \u001b[0;32mimport\u001b[0m \u001b[0mpackaging\u001b[0m\u001b[0;34m.\u001b[0m\u001b[0mutils\u001b[0m\u001b[0;34m\u001b[0m\u001b[0;34m\u001b[0m\u001b[0m\n\u001b[1;32m     94\u001b[0m \u001b[0;32mimport\u001b[0m \u001b[0mpackaging\u001b[0m\u001b[0;34m.\u001b[0m\u001b[0mversion\u001b[0m\u001b[0;34m\u001b[0m\u001b[0;34m\u001b[0m\u001b[0m\n\u001b[0;32m---> 95\u001b[0;31m \u001b[0;32mfrom\u001b[0m \u001b[0mjaraco\u001b[0m\u001b[0;34m.\u001b[0m\u001b[0mtext\u001b[0m \u001b[0;32mimport\u001b[0m \u001b[0mdrop_comment\u001b[0m\u001b[0;34m,\u001b[0m \u001b[0mjoin_continuation\u001b[0m\u001b[0;34m,\u001b[0m \u001b[0myield_lines\u001b[0m\u001b[0;34m\u001b[0m\u001b[0;34m\u001b[0m\u001b[0m\n\u001b[0m\u001b[1;32m     96\u001b[0m \u001b[0;32mfrom\u001b[0m \u001b[0mplatformdirs\u001b[0m \u001b[0;32mimport\u001b[0m \u001b[0muser_cache_dir\u001b[0m \u001b[0;32mas\u001b[0m \u001b[0m_user_cache_dir\u001b[0m\u001b[0;34m\u001b[0m\u001b[0;34m\u001b[0m\u001b[0m\n\u001b[1;32m     97\u001b[0m \u001b[0;34m\u001b[0m\u001b[0m\n",
      "\u001b[0;32m~/miniconda3/envs/python38/lib/python3.8/site-packages/setuptools/_vendor/jaraco/text/__init__.py\u001b[0m in \u001b[0;36m<module>\u001b[0;34m\u001b[0m\n\u001b[1;32m     10\u001b[0m \u001b[0;34m\u001b[0m\u001b[0m\n\u001b[1;32m     11\u001b[0m \u001b[0;32mfrom\u001b[0m \u001b[0mjaraco\u001b[0m\u001b[0;34m.\u001b[0m\u001b[0mfunctools\u001b[0m \u001b[0;32mimport\u001b[0m \u001b[0mcompose\u001b[0m\u001b[0;34m,\u001b[0m \u001b[0mmethod_cache\u001b[0m\u001b[0;34m\u001b[0m\u001b[0;34m\u001b[0m\u001b[0m\n\u001b[0;32m---> 12\u001b[0;31m \u001b[0;32mfrom\u001b[0m \u001b[0mjaraco\u001b[0m\u001b[0;34m.\u001b[0m\u001b[0mcontext\u001b[0m \u001b[0;32mimport\u001b[0m \u001b[0mExceptionTrap\u001b[0m\u001b[0;34m\u001b[0m\u001b[0;34m\u001b[0m\u001b[0m\n\u001b[0m\u001b[1;32m     13\u001b[0m \u001b[0;34m\u001b[0m\u001b[0m\n\u001b[1;32m     14\u001b[0m \u001b[0;34m\u001b[0m\u001b[0m\n",
      "\u001b[0;32m~/miniconda3/envs/python38/lib/python3.8/site-packages/setuptools/_vendor/jaraco/context.py\u001b[0m in \u001b[0;36m<module>\u001b[0;34m\u001b[0m\n\u001b[1;32m     15\u001b[0m \u001b[0;34m\u001b[0m\u001b[0m\n\u001b[1;32m     16\u001b[0m \u001b[0;32mif\u001b[0m \u001b[0msys\u001b[0m\u001b[0;34m.\u001b[0m\u001b[0mversion_info\u001b[0m \u001b[0;34m<\u001b[0m \u001b[0;34m(\u001b[0m\u001b[0;36m3\u001b[0m\u001b[0;34m,\u001b[0m \u001b[0;36m12\u001b[0m\u001b[0;34m)\u001b[0m\u001b[0;34m:\u001b[0m\u001b[0;34m\u001b[0m\u001b[0;34m\u001b[0m\u001b[0m\n\u001b[0;32m---> 17\u001b[0;31m     \u001b[0;32mfrom\u001b[0m \u001b[0mbackports\u001b[0m \u001b[0;32mimport\u001b[0m \u001b[0mtarfile\u001b[0m\u001b[0;34m\u001b[0m\u001b[0;34m\u001b[0m\u001b[0m\n\u001b[0m\u001b[1;32m     18\u001b[0m \u001b[0;32melse\u001b[0m\u001b[0;34m:\u001b[0m\u001b[0;34m\u001b[0m\u001b[0;34m\u001b[0m\u001b[0m\n\u001b[1;32m     19\u001b[0m     \u001b[0;32mimport\u001b[0m \u001b[0mtarfile\u001b[0m\u001b[0;34m\u001b[0m\u001b[0;34m\u001b[0m\u001b[0m\n",
      "\u001b[0;31mImportError\u001b[0m: cannot import name 'tarfile' from 'backports' (/home/chunyu/miniconda3/envs/python38/lib/python3.8/site-packages/backports/__init__.py)"
     ]
    }
   ],
   "source": []
  }
 ],
 "metadata": {
  "kernelspec": {
   "display_name": "python38",
   "language": "python",
   "name": "python3"
  },
  "language_info": {
   "codemirror_mode": {
    "name": "ipython",
    "version": 3
   },
   "file_extension": ".py",
   "mimetype": "text/x-python",
   "name": "python",
   "nbconvert_exporter": "python",
   "pygments_lexer": "ipython3",
   "version": "3.8.11"
  }
 },
 "nbformat": 4,
 "nbformat_minor": 2
}
